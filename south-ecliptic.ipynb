{
 "cells": [
  {
   "cell_type": "code",
   "execution_count": 1,
   "metadata": {},
   "outputs": [],
   "source": [
    "%matplotlib inline\n",
    "##%matplotlib notebook\n",
    "import matplotlib\n",
    "matplotlib.rcParams['figure.figsize'] = (10,8)\n",
    "import pylab as plt\n",
    "from astrometry.libkd.spherematch import *\n",
    "from astrometry.util.fits import *\n",
    "import numpy as np\n",
    "from astrometry.util.starutil_numpy import *\n",
    "from astrometry.util.plotutils import *\n",
    "from glob import glob"
   ]
  },
  {
   "cell_type": "code",
   "execution_count": 2,
   "metadata": {},
   "outputs": [],
   "source": [
    "T=fits_table('~/cosmo/data/wise/merge/merge_p1bm_frm/WISE-l1b-metadata-neowiser.fits')\n",
    "T.cut(np.argsort(T.mjd))"
   ]
  },
  {
   "cell_type": "code",
   "execution_count": null,
   "metadata": {},
   "outputs": [],
   "source": [
    "I=np.flatnonzero(np.abs(T.mjd - 56708) < 5.)\n",
    "T.ecl_l,T.ecl_b = radectoecliptic(T.ra0, T.dec0)"
   ]
  },
  {
   "cell_type": "code",
   "execution_count": null,
   "metadata": {},
   "outputs": [],
   "source": [
    "plt.plot(T.ra0[I], T.dec0[I], 'b.')"
   ]
  },
  {
   "cell_type": "code",
   "execution_count": null,
   "metadata": {},
   "outputs": [],
   "source": [
    "plt.plot(T.ecl_l[I], T.ecl_b[I], 'b.')"
   ]
  },
  {
   "cell_type": "code",
   "execution_count": null,
   "metadata": {},
   "outputs": [],
   "source": [
    "J=np.flatnonzero((np.abs(T.mjd - 56708) < 5.) * (T.ecl_b < -89))"
   ]
  },
  {
   "cell_type": "code",
   "execution_count": null,
   "metadata": {},
   "outputs": [],
   "source": [
    "J1=np.flatnonzero((np.abs(T.mjd - 56708) < 5.) * (T.ecl_b < -89.5) * (T.ecl_l < 180))\n",
    "plt.plot(T.ecl_l[J1], T.ecl_b[J1], 'b.')\n",
    "len(np.unique(T.scan_id[J1])), len(J1)"
   ]
  },
  {
   "cell_type": "code",
   "execution_count": null,
   "metadata": {},
   "outputs": [],
   "source": [
    "J1=np.flatnonzero((np.abs(T.mjd - 56708) < 5.) * (T.ecl_b < -89.3))"
   ]
  },
  {
   "cell_type": "code",
   "execution_count": null,
   "metadata": {},
   "outputs": [],
   "source": [
    "T.scan_id[J1[:10]]"
   ]
  },
  {
   "cell_type": "code",
   "execution_count": null,
   "metadata": {},
   "outputs": [],
   "source": [
    "plt.plot(T.mjd[J1])"
   ]
  },
  {
   "cell_type": "code",
   "execution_count": null,
   "metadata": {},
   "outputs": [],
   "source": [
    "from unwise_coadd import *"
   ]
  },
  {
   "cell_type": "code",
   "execution_count": null,
   "metadata": {},
   "outputs": [],
   "source": [
    "j = T[J1[0]]\n",
    "fn = get_l1b_file('/global/homes/d/dstn/cosmo/data/wise/merge/merge_p1bm_frm/', j.scan_id, j.frame_num, 1)\n",
    "print(fn)\n",
    "j1 = T[J1[1]]\n",
    "fn1 = get_l1b_file('/global/homes/d/dstn/cosmo/data/wise/merge/merge_p1bm_frm/', j1.scan_id, j1.frame_num, 1)\n",
    "print(fn1)\n",
    "j = T[J1[2]]\n",
    "fn2 = get_l1b_file('/global/homes/d/dstn/cosmo/data/wise/merge/merge_p1bm_frm/', j.scan_id, j.frame_num, 1)\n",
    "print(fn2)"
   ]
  },
  {
   "cell_type": "code",
   "execution_count": null,
   "metadata": {},
   "outputs": [],
   "source": [
    "img = fitsio.read(fn)\n",
    "img[np.isfinite(img)==False] = 15.\n",
    "plt.imshow(img, vmin=15, vmax=50)"
   ]
  },
  {
   "cell_type": "code",
   "execution_count": null,
   "metadata": {},
   "outputs": [],
   "source": [
    "from astrometry.util.util import Tan, Sip\n",
    "\n",
    "wcs = get_coadd_tile_wcs(90.0, -66.56)\n",
    "\n",
    "imgwcs = Sip(fn)\n",
    "imgwcs1 = Sip(fn1)"
   ]
  },
  {
   "cell_type": "code",
   "execution_count": null,
   "metadata": {},
   "outputs": [],
   "source": [
    "imgwcs.pixel_scale(), imgwcs.shape, 1016*2.75/3600."
   ]
  },
  {
   "cell_type": "code",
   "execution_count": null,
   "metadata": {},
   "outputs": [],
   "source": [
    "from astrometry.util.resample import *\n",
    "Yo,Xo,Yi,Xi,[rimg] = resample_with_wcs(wcs, imgwcs, [img], 3)"
   ]
  },
  {
   "cell_type": "code",
   "execution_count": null,
   "metadata": {},
   "outputs": [],
   "source": [
    "coimg = np.zeros(wcs.shape, np.float32)\n",
    "coimg[Yo,Xo] = rimg"
   ]
  },
  {
   "cell_type": "code",
   "execution_count": null,
   "metadata": {},
   "outputs": [],
   "source": [
    "plt.imshow(coimg, vmin=15, vmax=50);"
   ]
  },
  {
   "cell_type": "code",
   "execution_count": null,
   "metadata": {},
   "outputs": [],
   "source": [
    "img1 = fitsio.read(fn1)\n",
    "img1[np.isfinite(img1)==False] = 15.\n",
    "print(np.percentile(img1, [50,98]))\n",
    "Yo,Xo,Yi,Xi,[rimg] = resample_with_wcs(wcs, imgwcs1, [img1], 3)\n",
    "coimg1 = np.zeros(wcs.shape, np.float32)\n",
    "coimg1[Yo,Xo] = rimg\n",
    "plt.imshow(coimg1, vmin=15, vmax=50, interpolation='nearest', origin='lower');\n",
    "plt.imsave('coimg0.png', coimg, vmin=15, vmax=50, origin='lower');\n",
    "plt.imsave('coimg1.png', coimg1, vmin=15, vmax=50, origin='lower');"
   ]
  },
  {
   "cell_type": "code",
   "execution_count": null,
   "metadata": {},
   "outputs": [],
   "source": [
    "plt.imshow(coimg1 - coimg, vmin=-10, vmax=10);"
   ]
  },
  {
   "cell_type": "code",
   "execution_count": null,
   "metadata": {},
   "outputs": [],
   "source": [
    "scans = np.unique(T.scan_id[J1])\n",
    "print(len(scans), 'scans')\n",
    "#scans = [scans[i] for i in ]\n",
    "doscans = [0,1,19,20,40,41,99,100]\n",
    "coimgs = {}\n",
    "for iscan,scan in enumerate(scans):\n",
    "    if not iscan in doscans:\n",
    "        continue\n",
    "    print('Scan', iscan)\n",
    "    K = J1[T.scan_id[J1] == scan]\n",
    "    coimg = np.zeros(wcs.shape, np.float32)\n",
    "    con = np.zeros(wcs.shape, np.uint8)\n",
    "    for k in K:\n",
    "        frame = T[k]\n",
    "        fn = get_l1b_file('/global/homes/d/dstn/cosmo/data/wise/merge/merge_p1bm_frm/', frame.scan_id, frame.frame_num, 1)\n",
    "        print(fn)\n",
    "        img = fitsio.read(fn)\n",
    "        ok = np.isfinite(img)\n",
    "        med = np.percentile(img[ok], 50)\n",
    "        img[ok==False] = med\n",
    "        imgwcs = Sip(fn)\n",
    "        #ok,x,y = imgwcs.radec2pixelxy(90.64659110189505, -66.72252927611274)\n",
    "        ok,x,y = imgwcs.radec2pixelxy(90.74254187941929, -66.69918917807308)\n",
    "        print('->', int(x), int(y))\n",
    "        Yo,Xo,Yi,Xi,[rimg] = resample_with_wcs(wcs, imgwcs, [img-med], 3)\n",
    "        coimg[Yo,Xo] += rimg\n",
    "        con[Yo,Xo] += 1\n",
    "    coimg /= np.maximum(con, 1)\n",
    "    coimgs[iscan] = coimg\n",
    "    plt.imsave('coimg-%03i.png' % iscan, coimg, origin='lower', vmin=0, vmax=25)\n",
    "    #if iscan == 19:\n",
    "    #    break"
   ]
  },
  {
   "cell_type": "code",
   "execution_count": null,
   "metadata": {},
   "outputs": [],
   "source": [
    "medimg = np.median(np.dstack(coimgs.values()), axis=2)\n",
    "maximg = np.max(np.dstack(coimgs.values()), axis=2)"
   ]
  },
  {
   "cell_type": "code",
   "execution_count": null,
   "metadata": {},
   "outputs": [],
   "source": [
    "plt.imshow(medimg, interpolation='nearest', origin='lower', vmin=0, vmax=25);\n",
    "plt.axis([500,750,750,1000]);"
   ]
  },
  {
   "cell_type": "code",
   "execution_count": null,
   "metadata": {},
   "outputs": [],
   "source": [
    "plt.imshow(maximg-medimg, interpolation='nearest', origin='lower', vmin=0, vmax=25);\n",
    "plt.axis([500,750,750,1000]);"
   ]
  },
  {
   "cell_type": "code",
   "execution_count": null,
   "metadata": {},
   "outputs": [],
   "source": [
    "from scipy.ndimage.filters import gaussian_filter\n",
    "from scipy.ndimage.measurements import label, find_objects\n",
    "\n",
    "\n",
    "print(doscans)\n",
    "coords = {\n",
    "    0: (692,802),\n",
    "    1: (641,837),\n",
    "    19: (674,817),\n",
    "    20: (621,849),\n",
    "    40: (652,832),\n",
    "    41: (599,864),\n",
    "    99: (587,869),\n",
    "    100: (531,896),\n",
    "}\n",
    "iscan = 100\n",
    "plt.subplot(1,2,1)\n",
    "plt.imshow(np.abs(coimgs[iscan]-medimg), interpolation='nearest', origin='lower', vmin=0, vmax=25);\n",
    "\n",
    "det = gaussian_filter(coimgs[iscan]-medimg, 2.)\n",
    "hot = (det > 5.)\n",
    "blobs,nblobs = label(hot)\n",
    "slices = find_objects(blobs)\n",
    "xx,yy = np.zeros(nblobs, int), np.zeros(nblobs, int)\n",
    "for i,(blob,slc) in enumerate(zip(blobs,slices)):\n",
    "    sub = det[slc]\n",
    "    #print('blob values within', i, np.unique(blobs[slc]))\n",
    "    sub *= (blobs[slc] == (i+1))\n",
    "    y0,x0 = slc[0].start, slc[1].start\n",
    "    my,mx = np.unravel_index(np.argmax(sub), sub.shape)\n",
    "    xx[i] = x0+mx\n",
    "    yy[i] = y0+my\n",
    "\n",
    "plt.axis([500,750,750,1000]);\n",
    "plt.subplot(1,2,2)\n",
    "\n",
    "x,y = coords[iscan]\n",
    "\n",
    "closest = np.argmin(np.hypot(xx - x, yy - y))\n",
    "plt.imshow(np.abs(coimgs[iscan]-medimg), interpolation='nearest', origin='lower', vmin=0, vmax=25);\n",
    "plt.plot(xx, yy, 'ro')\n",
    "plt.plot(xx[closest], yy[closest], 'mo', ms=20, mew=4, mfc='none')\n",
    "print('Closest:', xx[closest], yy[closest])\n",
    "plt.axvline(x, color='r')\n",
    "#plt.axvline(x-5, color='r')\n",
    "#plt.axvline(x+5, color='r')\n",
    "plt.axhline(y, color='r')\n",
    "#plt.axhline(y-5, color='r')\n",
    "#plt.axhline(y+5, color='r')\n",
    "plt.axis([x-50,x+50, y-50, y+50]);"
   ]
  },
  {
   "cell_type": "code",
   "execution_count": null,
   "metadata": {},
   "outputs": [],
   "source": [
    "# Find out the specific L1b image containing the RA,Dec point in each scan.\n",
    "fns = {}\n",
    "scanwcs = {}\n",
    "scandates = {}\n",
    "scpos = {}\n",
    "dirs = {}\n",
    "for iscan in doscans:\n",
    "    print('Scan', iscan)\n",
    "    scan = scans[iscan]\n",
    "    K = J1[T.scan_id[J1] == scan]\n",
    "    for k in K:\n",
    "        frame = T[k]\n",
    "        fn = get_l1b_file('/global/homes/d/dstn/cosmo/data/wise/merge/merge_p1bm_frm/', frame.scan_id, frame.frame_num, 1)\n",
    "        print(fn)\n",
    "        imgwcs = Sip(fn)\n",
    "        ok,x,y = imgwcs.radec2pixelxy(90.74254187941929, -66.69918917807308)\n",
    "        H,W = imgwcs.shape\n",
    "        if x >= 1 and y >= 1 and x <= W and y <= H:\n",
    "            print('->', int(x), int(y))\n",
    "            fns[iscan] = fn\n",
    "            scanwcs[iscan] = imgwcs    \n",
    "            hdr = fitsio.read_header(fn)\n",
    "            scandates[iscan] = hdr['DATE_OBS']\n",
    "            scpos[iscan] = auinkm * np.array([hdr['ERTH2SCX'],hdr['ERTH2SCY'],hdr['ERTH2SCZ']])\n",
    "            x,y = coords[iscan]\n",
    "            r,d = wcs.pixelxy2radec(x+1, y+1)\n",
    "            dirs[iscan] = radectoxyz(r,d)[0]\n",
    "            break"
   ]
  },
  {
   "cell_type": "code",
   "execution_count": null,
   "metadata": {},
   "outputs": [],
   "source": [
    "%matplotlib inline\n",
    "\n",
    "from mpl_toolkits.mplot3d import Axes3D\n",
    "fig = plt.figure()\n",
    "#ax = fig.add_subplot(111, projection='3d')\n",
    "ax = plt.gcf().add_subplot(111, projection='3d')\n",
    "for iscan in doscans:\n",
    "    sc = scpos[iscan]\n",
    "    d1 = scpos[iscan] + dirs[iscan]*1000.\n",
    "    ax.plot3D([sc[0]], [sc[1]], [sc[2]], 'o')\n",
    "    ax.plot3D([sc[0],d1[0]], [sc[1],d1[1]], [sc[2],d1[2]], '-')\n",
    "ax.plot3D([0],[0],[0], 'ro')\n",
    "plt.show()"
   ]
  },
  {
   "cell_type": "code",
   "execution_count": null,
   "metadata": {},
   "outputs": [],
   "source": [
    "'''\n",
    "SUN2SCX =    -0.81955005972593 / [AU] Sun-to-S/C vector X component, J2000\n",
    "SUN2SCY =    0.505716170733614 / [AU] Sun-to-S/C vector Y component, J2000\n",
    "SUN2SCZ =     0.21919071289506 / [AU] Sun-to-S/C vector Z component, J2000\n",
    "SCVELX  = -0.00743308810283315 / [AU/day] SUN-to-S/C velocity vector X component\n",
    "SCVELY  =  -0.0097310164738194 / [AU/day] SUN-to-S/C velocity vector Y component\n",
    "SCVELZ  = -0.00445218519404931 / [AU/day] SUN-to-S/C velocity vector Z component\n",
    "ERTH2SCX= 2.39242578775712E-06 / [AU] Earth-to-S/C vector X component\n",
    "ERTH2SCY= 1.42680866487827E-05 / [AU] Earth-to-S/C vector Y component\n",
    "ERTH2SCZ= -4.37456411757718E-05 / [AU] Earth-to-S/C vector Z component\n",
    "\n",
    "GEOLON  =           275.157902 / [deg] S/C geographic longitude\n",
    "GEOLAT  =           -71.497494 / [deg] S/C geographic latitude\n",
    "GEOALT  =           533.749211 / [km] S/C altitude\n",
    "''';"
   ]
  },
  {
   "cell_type": "code",
   "execution_count": null,
   "metadata": {},
   "outputs": [],
   "source": [
    "fn1 = '/global/homes/d/dstn/cosmo/data/wise/merge/merge_p1bm_frm/2a/46132a/269/46132a269-w1-int-1b.fits'\n",
    "fn2 = '/global/homes/d/dstn/cosmo/data/wise/merge/merge_p1bm_frm/4b/46134b/010/46134b010-w1-int-1b.fits'\n",
    "fn19 = '/global/homes/d/dstn/cosmo/data/wise/merge/merge_p1bm_frm/2a/46172a/270/46172a270-w1-int-1b.fits'\n",
    "wcs1 = Sip(fn1)\n",
    "wcs2 = Sip(fn2)\n",
    "wcs19 = Sip(fn19)\n",
    "hdr1 = fitsio.read_header(fn1)\n",
    "hdr2 = fitsio.read_header(fn2)\n",
    "hdr19 = fitsio.read_header(fn19)\n",
    "#ra1,dec1 = wcs.pixelxy2radec(690, 810)\n",
    "#ra2,dec2 = wcs.pixelxy2radec(640, 840)\n",
    "ra1,dec1 = wcs1.pixelxy2radec(593, 32)\n",
    "ra2,dec2 = wcs2.pixelxy2radec(671, 674)\n",
    "ra19,dec19 = wcs19.pixelxy2radec(623, 492)\n",
    "print(hdr1['DATE_OBS'], hdr2['DATE_OBS'], hdr19['DATE_OBS'])"
   ]
  },
  {
   "cell_type": "code",
   "execution_count": null,
   "metadata": {},
   "outputs": [],
   "source": [
    "auinkm = 1.5e8\n",
    "sc1 = auinkm * np.array([hdr1['ERTH2SCX'],hdr1['ERTH2SCY'],hdr1['ERTH2SCZ']])\n",
    "dir1 = radectoxyz(ra1,dec1)[0]\n",
    "sc2 = auinkm * np.array([hdr2['ERTH2SCX'],hdr2['ERTH2SCY'],hdr2['ERTH2SCZ']])\n",
    "dir2 = radectoxyz(ra2,dec2)[0]\n",
    "sc19 = auinkm * np.array([hdr19['ERTH2SCX'],hdr19['ERTH2SCY'],hdr19['ERTH2SCZ']])\n",
    "dir19 = radectoxyz(ra19,dec19)[0]"
   ]
  },
  {
   "cell_type": "code",
   "execution_count": null,
   "metadata": {},
   "outputs": [],
   "source": [
    "print(np.sqrt(np.sum((sc1 - sc2)**2)) * 1.5e8)\n",
    "dir1\n",
    "sc1"
   ]
  },
  {
   "cell_type": "code",
   "execution_count": null,
   "metadata": {
    "scrolled": false
   },
   "outputs": [],
   "source": [
    "#%matplotlib notebook\n",
    "%matplotlib inline\n",
    "from mpl_toolkits.mplot3d import Axes3D\n",
    "#fig = plt.figure()\n",
    "#ax = fig.add_subplot(111, projection='3d')\n",
    "ax = plt.gcf().add_subplot(111, projection='3d')\n",
    "d1 = sc1 + dir1*1000.\n",
    "d2 = sc2 + dir2*1000.\n",
    "d19 = sc19 + dir19*1000.\n",
    "ax.plot3D([sc1[0]], [sc1[1]], [sc1[2]], 'bo')\n",
    "ax.plot3D([sc1[0],d1[0]], [sc1[1],d1[1]], [sc1[2],d1[2]], 'b-')\n",
    "ax.plot3D([sc2[0]], [sc2[1]], [sc2[2]], 'go')\n",
    "ax.plot3D([sc2[0],d2[0]], [sc2[1],d2[1]], [sc2[2],d2[2]], 'g-')\n",
    "ax.plot3D([sc19[0]], [sc19[1]], [sc19[2]], 'mo')\n",
    "ax.plot3D([sc19[0],d19[0]], [sc19[1],d19[1]], [sc19[2],d19[2]], 'm-')\n",
    "ax.plot3D([0],[0],[0], 'ro')\n",
    "plt.show()"
   ]
  },
  {
   "cell_type": "code",
   "execution_count": null,
   "metadata": {
    "scrolled": true
   },
   "outputs": [],
   "source": [
    "dir1, dir2"
   ]
  },
  {
   "cell_type": "code",
   "execution_count": null,
   "metadata": {},
   "outputs": [],
   "source": [
    "sc1,sc2"
   ]
  },
  {
   "cell_type": "code",
   "execution_count": null,
   "metadata": {},
   "outputs": [],
   "source": [
    "auinkm = 1.5e8\n",
    "sc1km = sc1 * auinkm\n",
    "sc2km = sc2 * auinkm\n",
    "dists = np.linspace(0, 2500., 100)\n",
    "seps = np.zeros_like(dists)\n",
    "for i,d in enumerate(dists):\n",
    "    seps[i] = np.sqrt(np.sum(((sc1km + d*dir1) - (sc2km + d*dir2))**2))"
   ]
  },
  {
   "cell_type": "code",
   "execution_count": null,
   "metadata": {},
   "outputs": [],
   "source": [
    "%matplotlib inline\n",
    "plt.plot(dists, seps, 'b-')\n",
    "plt.show()"
   ]
  },
  {
   "cell_type": "code",
   "execution_count": null,
   "metadata": {},
   "outputs": [],
   "source": [
    "min(seps)"
   ]
  },
  {
   "cell_type": "code",
   "execution_count": null,
   "metadata": {},
   "outputs": [],
   "source": []
  }
 ],
 "metadata": {
  "kernelspec": {
   "display_name": "dstn",
   "language": "python",
   "name": "dstn"
  },
  "language_info": {
   "codemirror_mode": {
    "name": "ipython",
    "version": 3
   },
   "file_extension": ".py",
   "mimetype": "text/x-python",
   "name": "python",
   "nbconvert_exporter": "python",
   "pygments_lexer": "ipython3",
   "version": "3.5.3"
  }
 },
 "nbformat": 4,
 "nbformat_minor": 2
}
